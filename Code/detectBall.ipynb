{
 "cells": [
  {
   "cell_type": "code",
   "execution_count": 1,
   "metadata": {},
   "outputs": [
    {
     "name": "stdout",
     "output_type": "stream",
     "text": [
      "Requirement already up-to-date: imutils in c:\\users\\yousef\\anaconda3\\lib\\site-packages (0.5.4)\n"
     ]
    }
   ],
   "source": [
    "!pip install --upgrade imutils"
   ]
  },
  {
   "cell_type": "code",
   "execution_count": 2,
   "metadata": {},
   "outputs": [],
   "source": [
    "import numpy as np\n",
    "import cv2\n",
    "import matplotlib.pyplot as plt\n",
    "import imutils\n",
    "\n",
    "%matplotlib inline"
   ]
  },
  {
   "cell_type": "code",
   "execution_count": 55,
   "metadata": {},
   "outputs": [],
   "source": [
    "points = {}\n",
    "velocities = {}\n",
    "screen_size = ()"
   ]
  },
  {
   "cell_type": "code",
   "execution_count": 56,
   "metadata": {},
   "outputs": [],
   "source": [
    "video_source = '../DATA/DATA Point 8.mp4'\n",
    "\n",
    "capture = cv2.VideoCapture(video_source)\n",
    "fps = capture.get(cv2.CAP_PROP_FPS)\n",
    "count = 0\n",
    "\n",
    "\n",
    "while capture.isOpened():\n",
    "    \n",
    "    ret, frame = capture.read()\n",
    "    \n",
    "    if not ret:\n",
    "        break\n",
    "    \n",
    "    count += 1\n",
    "    screen_size = frame.shape\n",
    "#     frame = cv2.copyMakeBorder(\n",
    "#                  frame, \n",
    "#                  1000, \n",
    "#                  1000, \n",
    "#                  1000, \n",
    "#                  1000, \n",
    "#                  cv2.BORDER_CONSTANT, \n",
    "#                  value=(255, 255, 255)\n",
    "#               )\n",
    "    \n",
    "    gray = cv2.cvtColor(frame, cv2.COLOR_BGR2GRAY)\n",
    "    blurred = cv2.GaussianBlur(gray, (5, 5), 0)\n",
    "    thresh = cv2.threshold(blurred, 60, 255, cv2.THRESH_BINARY_INV)[1]\n",
    "    \n",
    "    contours = cv2.findContours(thresh.copy(), cv2.RETR_EXTERNAL, cv2.CHAIN_APPROX_SIMPLE)\n",
    "    contours = imutils.grab_contours(contours)\n",
    "    \n",
    " \n",
    "    for countour in contours:\n",
    "        if cv2.contourArea(countour) > 500:\n",
    "            # compute the center of the contour\n",
    "            moments = cv2.moments(countour)\n",
    "            if moments[\"m00\"] != 0:\n",
    "                cX = int(moments[\"m10\"] / moments[\"m00\"])\n",
    "                cY = int(moments[\"m01\"] / moments[\"m00\"])\n",
    "            else:\n",
    "                cX, cY = 0, 0\n",
    "            points[count / fps] = {\"x\": cX, \"y\": frame.shape[1] - cY}\n",
    "#             print(cX, cY, cv2.contourArea(countour))\n",
    "            # draw the contour and center of the shape on the image\n",
    "            cv2.drawContours(frame, [countour], -1, (0, 255, 0), 2)\n",
    "            cv2.circle(frame, (cX, cY), 7, (255, 255, 255), -1)\n",
    "            cv2.putText(frame, \"center\", (cX - 20, cY - 20),\n",
    "            cv2.FONT_HERSHEY_SIMPLEX, 0.5, (255, 255, 255), 2)\n",
    "\n",
    "    \n",
    "#     cv2.imshow(\"Ball Detection\", frame)\n",
    "#     plt.imshow(frame)\n",
    "#     plt.show()\n",
    "    \n",
    "    key = cv2.waitKey(1) # Maybe 25 if using a file source\n",
    "    \n",
    "    \n",
    "    if key == 27: #Esc key\n",
    "        break\n",
    "        \n",
    "capture.release()\n",
    "cv2.destroyAllWindows()"
   ]
  },
  {
   "cell_type": "code",
   "execution_count": 57,
   "metadata": {},
   "outputs": [
    {
     "data": {
      "image/png": "[encoded data removed]",
      "text/plain": [
       "<Figure size 432x288 with 1 Axes>"
      ]
     },
     "metadata": {
      "needs_background": "light"
     },
     "output_type": "display_data"
    },
    {
     "data": {
      "image/png": "[encoded data removed]",
      "text/plain": [
       "<Figure size 432x288 with 1 Axes>"
      ]
     },
     "metadata": {
      "needs_background": "light"
     },
     "output_type": "display_data"
    }
   ],
   "source": [
    "plt.title(\"Y vs X\")\n",
    "plt.scatter([x[\"x\"] for x in points.values()], [x[\"y\"] for x in points.values()])\n",
    "plt.show()\n",
    "\n",
    "plt.title(\"Y vs t\")\n",
    "plt.scatter(points.keys(), [x[\"y\"] for x in points.values()])\n",
    "plt.show()"
   ]
  },
  {
   "cell_type": "code",
   "execution_count": 58,
   "metadata": {},
   "outputs": [
    {
     "name": "stdout",
     "output_type": "stream",
     "text": [
      "0.0010935185185185186 0.0003463541666666667\n"
     ]
    }
   ],
   "source": [
    "SCREEN_WIDTH = 1.181 # METERS\n",
    "SCREEN_HEIGHT = 0.665 # METERS\n",
    "\n",
    "pixel_size_x = SCREEN_WIDTH / screen_size[0]\n",
    "pixel_size_y = SCREEN_HEIGHT / screen_size[1]\n",
    "\n",
    "print(pixel_size_x, pixel_size_y)"
   ]
  },
  {
   "cell_type": "code",
   "execution_count": 59,
   "metadata": {},
   "outputs": [],
   "source": [
    "points_keys = list(points.keys())\n",
    "for i in range(1, len(points_keys)):\n",
    "    current_key = points_keys[i]\n",
    "    previous_key = points_keys[i - 1]\n",
    "    \n",
    "    dx = points[current_key][\"x\"] - points[previous_key][\"x\"]\n",
    "    dy = points[current_key][\"y\"] - points[previous_key][\"y\"]\n",
    "    dt = current_key - previous_key\n",
    "    \n",
    "    vX = (dx * pixel_size_x) / dt\n",
    "    vY = (dy * pixel_size_y) / dt\n",
    "    \n",
    "    velocities[current_key] = {\"vX\": vX, \"vY\": vY}"
   ]
  },
  {
   "cell_type": "code",
   "execution_count": 60,
   "metadata": {},
   "outputs": [
    {
     "data": {
      "image/png": "[encoded data removed]",
      "text/plain": [
       "<Figure size 432x288 with 1 Axes>"
      ]
     },
     "metadata": {
      "needs_background": "light"
     },
     "output_type": "display_data"
    },
    {
     "data": {
      "image/png": "[encoded data removed]",
      "text/plain": [
       "<Figure size 432x288 with 1 Axes>"
      ]
     },
     "metadata": {
      "needs_background": "light"
     },
     "output_type": "display_data"
    }
   ],
   "source": [
    "plt.title(\"vY vs t\")\n",
    "plt.scatter(velocities.keys(), [x[\"vY\"] for x in velocities.values()])\n",
    "plt.show()\n",
    "\n",
    "plt.title(\"vX vs t\")\n",
    "plt.scatter(velocities.keys(), [x[\"vX\"] for x in velocities.values()])\n",
    "plt.show()"
   ]
  }
 ],
 "metadata": {
  "kernelspec": {
   "display_name": "Python 3",
   "language": "python",
   "name": "python3"
  },
  "language_info": {
   "codemirror_mode": {
    "name": "ipython",
    "version": 3
   },
   "file_extension": ".py",
   "mimetype": "text/x-python",
   "name": "python",
   "nbconvert_exporter": "python",
   "pygments_lexer": "ipython3",
   "version": "3.8.5"
  }
 },
 "nbformat": 4,
 "nbformat_minor": 4
}
