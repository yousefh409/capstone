{
 "cells": [
  {
   "cell_type": "code",
   "execution_count": 23,
   "metadata": {},
   "outputs": [
    {
     "name": "stdout",
     "output_type": "stream",
     "text": [
      "Collecting imutils\n",
      "  Downloading imutils-0.5.4.tar.gz (17 kB)\n",
      "Building wheels for collected packages: imutils\n",
      "  Building wheel for imutils (setup.py): started\n",
      "  Building wheel for imutils (setup.py): finished with status 'done'\n",
      "  Created wheel for imutils: filename=imutils-0.5.4-py3-none-any.whl size=25862 sha256=8a056ff551d0b6ee49a3c3d7e5d9e61d023c0fc1c45ab502fb58fffe11e24146\n",
      "  Stored in directory: c:\\users\\yousef\\appdata\\local\\pip\\cache\\wheels\\59\\1b\\52\\0dea905f8278d5514dc4d0be5e251967f8681670cadd3dca89\n",
      "Successfully built imutils\n",
      "Installing collected packages: imutils\n",
      "Successfully installed imutils-0.5.4\n"
     ]
    }
   ],
   "source": [
    "!pip install --upgrade imutils"
   ]
  },
  {
   "cell_type": "code",
   "execution_count": 24,
   "metadata": {},
   "outputs": [],
   "source": [
    "import numpy as np\n",
    "import cv2\n",
    "import matplotlib.pyplot as plt\n",
    "import imutils\n",
    "\n",
    "%matplotlib inline"
   ]
  },
  {
   "cell_type": "code",
   "execution_count": 71,
   "metadata": {},
   "outputs": [
    {
     "name": "stdout",
     "output_type": "stream",
     "text": [
      "{24: 1465, 80: 1570, 190: 1653, 319: 1712, 449: 1751, 580: 1770, 711: 1770, 845: 1749, 982: 1708, 1121: 1647, 1263: 1563, 1411: 1456, 1566: 1324, 1723: 1168, 1861: 977} dict_keys([24, 80, 190, 319, 449, 580, 711, 845, 982, 1121, 1263, 1411, 1566, 1723, 1861]) dict_values([1465, 1570, 1653, 1712, 1751, 1770, 1770, 1749, 1708, 1647, 1563, 1456, 1324, 1168, 977])\n"
     ]
    },
    {
     "data": {
      "image/png": "[encoded data removed]",
      "text/plain": [
       "<Figure size 432x288 with 1 Axes>"
      ]
     },
     "metadata": {
      "needs_background": "light"
     },
     "output_type": "display_data"
    }
   ],
   "source": [
    "video_source = '../DATA/DATA Point 21.mp4'\n",
    "\n",
    "capture = cv2.VideoCapture(video_source)\n",
    "points = {}\n",
    "\n",
    "while capture.isOpened():\n",
    "    \n",
    "    ret, frame = capture.read()\n",
    "    \n",
    "    if not ret:\n",
    "        break\n",
    "        \n",
    "#     frame = cv2.copyMakeBorder(\n",
    "#                  frame, \n",
    "#                  1000, \n",
    "#                  1000, \n",
    "#                  1000, \n",
    "#                  1000, \n",
    "#                  cv2.BORDER_CONSTANT, \n",
    "#                  value=(255, 255, 255)\n",
    "#               )\n",
    "    \n",
    "    gray = cv2.cvtColor(frame, cv2.COLOR_BGR2GRAY)\n",
    "    blurred = cv2.GaussianBlur(gray, (5, 5), 0)\n",
    "    thresh = cv2.threshold(blurred, 60, 255, cv2.THRESH_BINARY_INV)[1]\n",
    "    \n",
    "    contours = cv2.findContours(thresh.copy(), cv2.RETR_EXTERNAL, cv2.CHAIN_APPROX_SIMPLE)\n",
    "    contours = imutils.grab_contours(contours)\n",
    "    \n",
    " \n",
    "    for countour in contours:\n",
    "        if cv2.contourArea(countour) > 500:\n",
    "            # compute the center of the contour\n",
    "            moments = cv2.moments(countour)\n",
    "            if moments[\"m00\"] != 0:\n",
    "                cX = int(moments[\"m10\"] / moments[\"m00\"])\n",
    "                cY = int(moments[\"m01\"] / moments[\"m00\"])\n",
    "            else:\n",
    "                cX, cY = 0, 0\n",
    "            points[cX] = frame.shape[1] - cY\n",
    "#             print(cX, cY, cv2.contourArea(countour))\n",
    "            # draw the contour and center of the shape on the image\n",
    "            cv2.drawContours(frame, [countour], -1, (0, 255, 0), 2)\n",
    "            cv2.circle(frame, (cX, cY), 7, (255, 255, 255), -1)\n",
    "            cv2.putText(frame, \"center\", (cX - 20, cY - 20),\n",
    "            cv2.FONT_HERSHEY_SIMPLEX, 0.5, (255, 255, 255), 2)\n",
    "\n",
    "    \n",
    "#     cv2.imshow(\"Ball Detection\", frame)\n",
    "#     plt.imshow(frame)\n",
    "#     plt.show()\n",
    "    \n",
    "    key = cv2.waitKey(1) # Maybe 25 if using a file source\n",
    "    \n",
    "    \n",
    "    if key == 27: #Esc key\n",
    "        break\n",
    "        \n",
    "capture.release()\n",
    "cv2.destroyAllWindows()\n",
    "print(points, points.keys(), points.values())\n",
    "plt.scatter(points.keys(), points.values())\n",
    "plt.show()"
   ]
  },
  {
   "cell_type": "code",
   "execution_count": null,
   "metadata": {},
   "outputs": [],
   "source": []
  },
  {
   "cell_type": "code",
   "execution_count": null,
   "metadata": {},
   "outputs": [],
   "source": []
  }
 ],
 "metadata": {
  "kernelspec": {
   "display_name": "Python 3",
   "language": "python",
   "name": "python3"
  },
  "language_info": {
   "codemirror_mode": {
    "name": "ipython",
    "version": 3
   },
   "file_extension": ".py",
   "mimetype": "text/x-python",
   "name": "python",
   "nbconvert_exporter": "python",
   "pygments_lexer": "ipython3",
   "version": "3.8.5"
  }
 },
 "nbformat": 4,
 "nbformat_minor": 4
}
