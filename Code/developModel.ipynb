{
 "cells": [
  {
   "cell_type": "code",
   "execution_count": 22,
   "metadata": {},
   "outputs": [],
   "source": [
    "# !pip install keras\n",
    "# !pip install tensorflow"
   ]
  },
  {
   "cell_type": "code",
   "execution_count": 36,
   "metadata": {},
   "outputs": [],
   "source": [
    "import pandas as pd\n",
    "from sklearn import preprocessing\n",
    "from sklearn.model_selection import train_test_split\n",
    "import keras as keras\n",
    "from keras import layers\n",
    "from random import randrange\n",
    "import matplotlib.pyplot as plt\n",
    "\n",
    "%matplotlib inline"
   ]
  },
  {
   "cell_type": "code",
   "execution_count": 24,
   "metadata": {},
   "outputs": [
    {
     "name": "stdout",
     "output_type": "stream",
     "text": [
      "             x         y         t        vY        vX  vXinitial  vYinitial\n",
      "0     0.096230 -0.006234  0.033333 -0.187031  2.886889   1.509056   0.124688\n",
      "1     0.212143 -0.019742  0.066667 -0.405234  3.477389   1.509056   0.124688\n",
      "2     0.330243 -0.039831  0.100000 -0.602656  3.543000   1.509056   0.124688\n",
      "3     0.449436 -0.066500  0.133333 -0.800078  3.575806   1.509056   0.124688\n",
      "4     0.571910 -0.100443  0.166667 -1.018281  3.674222   1.509056   0.124688\n",
      "...        ...       ...       ...       ...       ...        ...        ...\n",
      "2626  0.151999 -0.090398  0.066667 -1.454688  2.329194   2.165167  -0.997500\n",
      "2627  0.232919 -0.144776  0.100000 -1.631328  2.427611   2.165167  -0.997500\n",
      "2628  0.077640 -0.048490  0.033333 -1.454688  2.329194   2.230778  -1.257266\n",
      "2629  0.158560 -0.102867  0.066667 -1.631328  2.427611   2.230778  -1.257266\n",
      "2630  0.080920 -0.054378  0.033333 -1.631328  2.427611   2.329194  -1.454688\n",
      "\n",
      "[2631 rows x 7 columns]\n"
     ]
    }
   ],
   "source": [
    "DATA_PATH = \"Dataset Development/data_points.csv\"\n",
    "data = pd.read_csv(DATA_PATH)\n",
    "print(data)"
   ]
  },
  {
   "cell_type": "code",
   "execution_count": 25,
   "metadata": {},
   "outputs": [],
   "source": [
    "X = data.loc[:,[\"t\", \"vXinitial\", \"vYinitial\"]]\n",
    "Y = data[\"y\"]"
   ]
  },
  {
   "cell_type": "code",
   "execution_count": 26,
   "metadata": {},
   "outputs": [],
   "source": [
    "min_max_scaler = preprocessing.MinMaxScaler()\n",
    "X_scale = min_max_scaler.fit_transform(X)\n",
    "\n",
    "X_train, X_val_and_test, Y_train, Y_val_and_test = train_test_split(X_scale, Y, test_size=0.3)\n",
    "X_val, X_test, Y_val, Y_test = train_test_split(X_val_and_test, Y_val_and_test, test_size=0.5)"
   ]
  },
  {
   "cell_type": "code",
   "execution_count": null,
   "metadata": {},
   "outputs": [
    {
     "name": "stdout",
     "output_type": "stream",
     "text": [
      "Epoch 1/100\n",
      "58/58 [==============================] - 4s 16ms/step - loss: -0.7429 - accuracy: 0.0000e+00 - val_loss: -0.8441 - val_accuracy: 0.0000e+00\n",
      "Epoch 2/100\n",
      "58/58 [==============================] - 0s 7ms/step - loss: -0.7697 - accuracy: 0.0000e+00 - val_loss: -0.8441 - val_accuracy: 0.0000e+00\n",
      "Epoch 3/100\n",
      "58/58 [==============================] - 0s 7ms/step - loss: -0.8260 - accuracy: 0.0000e+00 - val_loss: -0.8441 - val_accuracy: 0.0000e+00\n",
      "Epoch 4/100\n",
      "58/58 [==============================] - 0s 7ms/step - loss: -0.8155 - accuracy: 0.0000e+00 - val_loss: -0.8441 - val_accuracy: 0.0000e+00\n",
      "Epoch 5/100\n",
      "58/58 [==============================] - 0s 7ms/step - loss: -0.7988 - accuracy: 0.0000e+00 - val_loss: -0.8441 - val_accuracy: 0.0000e+00\n",
      "Epoch 6/100\n",
      "58/58 [==============================] - 0s 7ms/step - loss: -0.7980 - accuracy: 0.0000e+00 - val_loss: -0.8441 - val_accuracy: 0.0000e+00\n",
      "Epoch 7/100\n",
      "58/58 [==============================] - 0s 7ms/step - loss: -0.8135 - accuracy: 0.0000e+00 - val_loss: -0.8441 - val_accuracy: 0.0000e+00\n",
      "Epoch 8/100\n",
      "58/58 [==============================] - 0s 7ms/step - loss: -0.8266 - accuracy: 0.0000e+00 - val_loss: -0.8441 - val_accuracy: 0.0000e+00\n",
      "Epoch 9/100\n",
      "58/58 [==============================] - 0s 7ms/step - loss: -0.8112 - accuracy: 0.0000e+00 - val_loss: -0.8441 - val_accuracy: 0.0000e+00\n",
      "Epoch 10/100\n",
      "58/58 [==============================] - 0s 7ms/step - loss: -0.8840 - accuracy: 0.0000e+00 - val_loss: -0.8441 - val_accuracy: 0.0000e+00\n",
      "Epoch 11/100\n",
      "58/58 [==============================] - 0s 7ms/step - loss: -0.8939 - accuracy: 0.0000e+00 - val_loss: -0.8441 - val_accuracy: 0.0000e+00\n",
      "Epoch 12/100\n",
      "58/58 [==============================] - 0s 7ms/step - loss: -0.8281 - accuracy: 0.0000e+00 - val_loss: -0.8441 - val_accuracy: 0.0000e+00\n",
      "Epoch 13/100\n",
      "58/58 [==============================] - 1s 9ms/step - loss: -0.7954 - accuracy: 0.0000e+00 - val_loss: -0.8441 - val_accuracy: 0.0000e+00\n",
      "Epoch 14/100\n",
      "58/58 [==============================] - 1s 9ms/step - loss: -0.8472 - accuracy: 0.0000e+00 - val_loss: -0.8441 - val_accuracy: 0.0000e+00\n",
      "Epoch 15/100\n",
      "58/58 [==============================] - 0s 7ms/step - loss: -0.7861 - accuracy: 0.0000e+00 - val_loss: -0.8441 - val_accuracy: 0.0000e+00\n",
      "Epoch 16/100\n",
      "58/58 [==============================] - 1s 10ms/step - loss: -0.8676 - accuracy: 0.0000e+00 - val_loss: -0.8441 - val_accuracy: 0.0000e+00\n",
      "Epoch 17/100\n",
      "58/58 [==============================] - 0s 7ms/step - loss: -0.8694 - accuracy: 0.0000e+00 - val_loss: -0.8441 - val_accuracy: 0.0000e+00\n",
      "Epoch 18/100\n",
      "58/58 [==============================] - 0s 7ms/step - loss: -0.7810 - accuracy: 0.0000e+00 - val_loss: -0.8441 - val_accuracy: 0.0000e+00\n",
      "Epoch 19/100\n",
      "58/58 [==============================] - 0s 8ms/step - loss: -0.8878 - accuracy: 0.0000e+00 - val_loss: -0.8441 - val_accuracy: 0.0000e+00\n",
      "Epoch 20/100\n",
      "58/58 [==============================] - 0s 7ms/step - loss: -0.8396 - accuracy: 0.0000e+00 - val_loss: -0.8441 - val_accuracy: 0.0000e+00\n",
      "Epoch 21/100\n",
      "58/58 [==============================] - 0s 7ms/step - loss: -0.7707 - accuracy: 0.0000e+00 - val_loss: -0.8441 - val_accuracy: 0.0000e+00\n",
      "Epoch 22/100\n",
      "58/58 [==============================] - 0s 8ms/step - loss: -0.8660 - accuracy: 0.0000e+00 - val_loss: -0.8441 - val_accuracy: 0.0000e+00\n",
      "Epoch 23/100\n",
      "58/58 [==============================] - 0s 8ms/step - loss: -0.8303 - accuracy: 0.0000e+00 - val_loss: -0.8441 - val_accuracy: 0.0000e+00\n",
      "Epoch 24/100\n",
      "58/58 [==============================] - 0s 8ms/step - loss: -0.8681 - accuracy: 0.0000e+00 - val_loss: -0.8441 - val_accuracy: 0.0000e+00\n",
      "Epoch 25/100\n",
      "58/58 [==============================] - 0s 7ms/step - loss: -0.8232 - accuracy: 0.0000e+00 - val_loss: -0.8441 - val_accuracy: 0.0000e+00\n",
      "Epoch 26/100\n",
      "58/58 [==============================] - 0s 7ms/step - loss: -0.7704 - accuracy: 0.0000e+00 - val_loss: -0.8441 - val_accuracy: 0.0000e+00\n",
      "Epoch 27/100\n",
      "58/58 [==============================] - 0s 7ms/step - loss: -0.8008 - accuracy: 0.0000e+00 - val_loss: -0.8441 - val_accuracy: 0.0000e+00\n",
      "Epoch 28/100\n",
      "58/58 [==============================] - 0s 7ms/step - loss: -0.9064 - accuracy: 0.0000e+00 - val_loss: -0.8441 - val_accuracy: 0.0000e+00\n",
      "Epoch 29/100\n",
      " 9/58 [===>..........................] - ETA: 0s - loss: -1.0757 - accuracy: 0.0000e+00"
     ]
    }
   ],
   "source": [
    "model = keras.Sequential()\n",
    "\n",
    "model.add(layers.Embedding(input_dim=3, output_dim=1))\n",
    "\n",
    "# The output of GRU will be a 3D tensor of shape (batch_size, timesteps, 256)\n",
    "model.add(layers.GRU(256, return_sequences=True))\n",
    "\n",
    "# The output of SimpleRNN will be a 2D tensor of shape (batch_size, 128)\n",
    "model.add(layers.SimpleRNN(128))\n",
    "\n",
    "model.add(layers.Dense(10))\n",
    "\n",
    "model.compile(optimizer='adam',\n",
    "              loss='binary_crossentropy',\n",
    "              metrics=['accuracy'])\n",
    "\n",
    "hist = model.fit(X_train, Y_train,\n",
    "          batch_size=32, epochs=100,\n",
    "          validation_data=(X_val, Y_val))"
   ]
  },
  {
   "cell_type": "code",
   "execution_count": 38,
   "metadata": {},
   "outputs": [
    {
     "name": "stdout",
     "output_type": "stream",
     "text": [
      "t            0.100000\n",
      "vXinitial    0.820139\n",
      "vYinitial    1.122187\n",
      "Name: 1879, dtype: float64\n"
     ]
    },
    {
     "data": {
      "image/png": "[encoded data removed]",
      "text/plain": [
       "<Figure size 432x288 with 1 Axes>"
      ]
     },
     "metadata": {
      "needs_background": "light"
     },
     "output_type": "display_data"
    }
   ],
   "source": [
    "################# TEST #################\n",
    "test_index = randrange(data.shape[0])\n",
    "test_point = data.loc[:,[\"t\", \"vXinitial\", \"vYinitial\"]].iloc[test_index]\n",
    "\n",
    "print(test_point)\n",
    "\n",
    "test_points = {}\n",
    "\n",
    "for i in range(10):\n",
    "    test_point[\"t\"] = test_point[\"t\"] + 1\n",
    "    test_y = model.predict((tuple(test_point),))[0][0]\n",
    "    \n",
    "    test_points[test_point[\"t\"]] = test_y\n",
    "\n",
    "plt.scatter([t for t in test_points.keys()], [y for y in test_points.values()])\n",
    "plt.show()"
   ]
  },
  {
   "cell_type": "code",
   "execution_count": null,
   "metadata": {},
   "outputs": [],
   "source": []
  },
  {
   "cell_type": "code",
   "execution_count": null,
   "metadata": {},
   "outputs": [],
   "source": []
  }
 ],
 "metadata": {
  "kernelspec": {
   "display_name": "Python 3",
   "language": "python",
   "name": "python3"
  },
  "language_info": {
   "codemirror_mode": {
    "name": "ipython",
    "version": 3
   },
   "file_extension": ".py",
   "mimetype": "text/x-python",
   "name": "python",
   "nbconvert_exporter": "python",
   "pygments_lexer": "ipython3",
   "version": "3.8.5"
  }
 },
 "nbformat": 4,
 "nbformat_minor": 4
}
